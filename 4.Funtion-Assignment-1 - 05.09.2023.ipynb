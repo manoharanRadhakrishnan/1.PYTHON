{
 "cells": [
  {
   "cell_type": "code",
   "execution_count": 2,
   "metadata": {},
   "outputs": [],
   "source": [
    "def subfield():\n",
    "    Title1=(\"Subfields in AI are\")\n",
    "    print(Title1)\n",
    "    subjects=['Machine Learning', 'Natural Networks', 'Vision', 'Robotics', 'Speech Processing', 'Natural Language Processing']\n",
    "    for key in (subjects):\n",
    "        print(key)\n",
    "        message=key\n",
    "    return Title1,subjects"
   ]
  },
  {
   "cell_type": "code",
   "execution_count": 3,
   "metadata": {},
   "outputs": [
    {
     "name": "stdout",
     "output_type": "stream",
     "text": [
      "Subfields in AI are\n",
      "Machine Learning\n",
      "Natural Networks\n",
      "Vision\n",
      "Robotics\n",
      "Speech Processing\n",
      "Natural Language Processing\n"
     ]
    },
    {
     "data": {
      "text/plain": [
       "('Subfields in AI are',\n",
       " ['Machine Learning',\n",
       "  'Natural Networks',\n",
       "  'Vision',\n",
       "  'Robotics',\n",
       "  'Speech Processing',\n",
       "  'Natural Language Processing'])"
      ]
     },
     "execution_count": 3,
     "metadata": {},
     "output_type": "execute_result"
    }
   ],
   "source": [
    "subfield()"
   ]
  },
  {
   "cell_type": "code",
   "execution_count": 4,
   "metadata": {},
   "outputs": [
    {
     "name": "stdout",
     "output_type": "stream",
     "text": [
      "Machine Learning\n",
      "Natural Networks\n",
      "Vision\n",
      "Robotics\n",
      "Speech Processing\n",
      "Natural Language Processing\n"
     ]
    }
   ],
   "source": [
    "dt = ['Machine Learning', 'Natural Networks', 'Vision', 'Robotics', 'Speech Processing', 'Natural Language Processing']\n",
    "\n",
    "for value in dt:\n",
    "    print(value)"
   ]
  },
  {
   "cell_type": "code",
   "execution_count": 5,
   "metadata": {},
   "outputs": [
    {
     "name": "stdout",
     "output_type": "stream",
     "text": [
      "Enter a Number52452\n",
      "52452 is Even Number\n"
     ]
    }
   ],
   "source": [
    "Num1=int(input(\"Enter a Number\"))\n",
    "if (Num1%2)==0:\n",
    "    print(Num1,\"is Even Number\")\n",
    "else:\n",
    "    print(Num1,\"is Odd Number\")\n",
    "    \n"
   ]
  },
  {
   "cell_type": "code",
   "execution_count": 7,
   "metadata": {},
   "outputs": [],
   "source": [
    "def oddeven():\n",
    "    Num1=int(input(\"Enter a Number\"))\n",
    "    if (Num1%2)==0:\n",
    "        print(Num1,\"is Even Number\")\n",
    "    else:\n",
    "        print(Num1,\"is Odd Number\")\n",
    "        return Number"
   ]
  },
  {
   "cell_type": "code",
   "execution_count": 8,
   "metadata": {},
   "outputs": [
    {
     "name": "stdout",
     "output_type": "stream",
     "text": [
      "Enter a Number52452\n",
      "52452 is Even Number\n"
     ]
    }
   ],
   "source": [
    "oddeven()"
   ]
  },
  {
   "cell_type": "code",
   "execution_count": 9,
   "metadata": {},
   "outputs": [
    {
     "name": "stdout",
     "output_type": "stream",
     "text": [
      "Your Gender:male\n",
      "Your Age:20\n",
      "NOT ELIGIBLE\n"
     ]
    }
   ],
   "source": [
    "Gender1=input(\"Your Gender:\")\n",
    "Age1=int(input(\"Your Age:\"))\n",
    "if (Age1<21):\n",
    "    print(\"NOT ELIGIBLE\")\n",
    "else:\n",
    "    print(\"ELIGIBLE\")"
   ]
  },
  {
   "cell_type": "code",
   "execution_count": 10,
   "metadata": {},
   "outputs": [],
   "source": [
    "def eligible():\n",
    "    Gender1=input(\"Your Gender:\")\n",
    "    Age1=int(input(\"Your Age:\"))\n",
    "    if (Age1<21):\n",
    "        print(\"NOT ELIGIBLE\")\n",
    "    else:\n",
    "        print(\"ELIGIBLE\")\n",
    "        return eligible"
   ]
  },
  {
   "cell_type": "code",
   "execution_count": 11,
   "metadata": {},
   "outputs": [
    {
     "name": "stdout",
     "output_type": "stream",
     "text": [
      "Your Gender:male\n",
      "Your Age:20\n",
      "NOT ELIGIBLE\n"
     ]
    }
   ],
   "source": [
    "eligible()\n"
   ]
  },
  {
   "cell_type": "code",
   "execution_count": 28,
   "metadata": {},
   "outputs": [
    {
     "name": "stdout",
     "output_type": "stream",
     "text": [
      "Subject1=98\n",
      "subject2=87\n",
      "subject3=95\n",
      "subject4=95\n",
      "subject5=93\n",
      "Total= 468\n",
      "percentage= 93.6\n"
     ]
    }
   ],
   "source": [
    "Sub1=int(input(\"Subject1=\"))\n",
    "Sub2=int(input(\"subject2=\"))\n",
    "Sub3=int(input(\"subject3=\"))\n",
    "Sub4=int(input(\"subject4=\"))\n",
    "Sub5=int(input(\"subject5=\"))\n",
    "Total1=(Sub1+Sub2+Sub3+Sub4+Sub5)\n",
    "print(\"Total=\",Total1)\n",
    "percentage=((Total1/5)%100)\n",
    "print(\"percentage=\",percentage)"
   ]
  },
  {
   "cell_type": "code",
   "execution_count": 32,
   "metadata": {},
   "outputs": [],
   "source": [
    "def percentage():\n",
    "    Sub1=int(input(\"Subject1=\"))\n",
    "    Sub2=int(input(\"subject2=\"))\n",
    "    Sub3=int(input(\"subject3=\"))\n",
    "    Sub4=int(input(\"subject4=\"))\n",
    "    Sub5=int(input(\"subject5=\"))\n",
    "    Total1=(Sub1+Sub2+Sub3+Sub4+Sub5)\n",
    "    print(\"Total=\",Total1)\n",
    "    percentage=((Total1/5)%100)\n",
    "    print(\"percentage=\",percentage)\n",
    "    return percentage"
   ]
  },
  {
   "cell_type": "code",
   "execution_count": 33,
   "metadata": {},
   "outputs": [
    {
     "name": "stdout",
     "output_type": "stream",
     "text": [
      "Subject1=98\n",
      "subject2=87\n",
      "subject3=95\n",
      "subject4=95\n",
      "subject5=93\n",
      "Total= 468\n",
      "percentage= 93.6\n"
     ]
    },
    {
     "data": {
      "text/plain": [
       "93.6"
      ]
     },
     "execution_count": 33,
     "metadata": {},
     "output_type": "execute_result"
    }
   ],
   "source": [
    "percentage()"
   ]
  },
  {
   "cell_type": "code",
   "execution_count": 39,
   "metadata": {},
   "outputs": [
    {
     "name": "stdout",
     "output_type": "stream",
     "text": [
      "Height:32\n",
      "Breath:34\n",
      "Area of Triangle: 544.0\n"
     ]
    }
   ],
   "source": [
    "Height=int(input(\"Height:\"))\n",
    "Breath=int(input(\"Breath:\"))\n",
    "AreaFormula=(Height*Breath)/2\n",
    "print(\"Area of Triangle:\", AreaFormula)"
   ]
  },
  {
   "cell_type": "code",
   "execution_count": 41,
   "metadata": {},
   "outputs": [
    {
     "name": "stdout",
     "output_type": "stream",
     "text": [
      "Height1:2\n",
      "Height2:4\n",
      "Breath:4\n",
      "perimeter of Triangle: 10\n"
     ]
    }
   ],
   "source": [
    "Height1=int(input(\"Height1:\"))\n",
    "Height2=int(input(\"Height2:\"))\n",
    "Breath=int(input(\"Breath:\"))\n",
    "perimeterformula=(Height1+Height2+Breath)\n",
    "print('perimeter of Triangle:', perimeterformula)"
   ]
  },
  {
   "cell_type": "code",
   "execution_count": 64,
   "metadata": {},
   "outputs": [],
   "source": [
    "def AreaofTriangle():\n",
    "    Height=int(input(\"Height:\"))\n",
    "    Breath=int(input(\"Breath:\"))\n",
    "    AreaFormula=(Height*Breath)/2\n",
    "    print(\"Area of Triangle:\", AreaFormula)\n",
    "    return AreaFormula"
   ]
  },
  {
   "cell_type": "code",
   "execution_count": 65,
   "metadata": {},
   "outputs": [
    {
     "name": "stdout",
     "output_type": "stream",
     "text": [
      "Height:32\n",
      "Breath:34\n",
      "Area of Triangle: 544.0\n"
     ]
    },
    {
     "data": {
      "text/plain": [
       "544.0"
      ]
     },
     "execution_count": 65,
     "metadata": {},
     "output_type": "execute_result"
    }
   ],
   "source": [
    "AreaofTriangle()"
   ]
  },
  {
   "cell_type": "code",
   "execution_count": 62,
   "metadata": {},
   "outputs": [],
   "source": [
    "def PerimeterofTriangle():\n",
    "    Height1=int(input(\"Height1:\"))\n",
    "    Height2=int(input(\"Height2:\"))\n",
    "    Breath=int(input(\"Breath:\"))\n",
    "    perimeterformula=(Height1+Height2+Breath)\n",
    "    print('perimeter of Triangle:', perimeterformula)\n",
    "    return perimeterformula\n",
    "    "
   ]
  },
  {
   "cell_type": "code",
   "execution_count": 63,
   "metadata": {},
   "outputs": [
    {
     "name": "stdout",
     "output_type": "stream",
     "text": [
      "Height1:2\n",
      "Height2:4\n",
      "Breath:4\n",
      "perimeter of Triangle: 10\n"
     ]
    },
    {
     "data": {
      "text/plain": [
       "10"
      ]
     },
     "execution_count": 63,
     "metadata": {},
     "output_type": "execute_result"
    }
   ],
   "source": [
    "PerimeterofTriangle()"
   ]
  },
  {
   "cell_type": "code",
   "execution_count": null,
   "metadata": {},
   "outputs": [],
   "source": []
  }
 ],
 "metadata": {
  "kernelspec": {
   "display_name": "Python 3",
   "language": "python",
   "name": "python3"
  },
  "language_info": {
   "codemirror_mode": {
    "name": "ipython",
    "version": 3
   },
   "file_extension": ".py",
   "mimetype": "text/x-python",
   "name": "python",
   "nbconvert_exporter": "python",
   "pygments_lexer": "ipython3",
   "version": "3.7.4"
  }
 },
 "nbformat": 4,
 "nbformat_minor": 2
}
