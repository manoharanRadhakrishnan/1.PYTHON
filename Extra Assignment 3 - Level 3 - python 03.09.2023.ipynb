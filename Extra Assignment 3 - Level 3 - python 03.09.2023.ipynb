{
 "cells": [
  {
   "cell_type": "code",
   "execution_count": 7,
   "metadata": {},
   "outputs": [
    {
     "name": "stdout",
     "output_type": "stream",
     "text": [
      "value: 10\n",
      "correct\n"
     ]
    }
   ],
   "source": [
    "num1=5\n",
    "num2=5\n",
    "value=num1+num2\n",
    "print(\"value:\",value)\n",
    "if(value==10):\n",
    "    print(\"correct\")\n",
    "else:\n",
    "    print(\"Not Correct\")\n"
   ]
  },
  {
   "cell_type": "code",
   "execution_count": 2,
   "metadata": {},
   "outputs": [
    {
     "name": "stdout",
     "output_type": "stream",
     "text": [
      "Enter the Password:Hope@123\n"
     ]
    }
   ],
   "source": [
    "Yourpassword=input(\"Enter the Password:\")"
   ]
  },
  {
   "cell_type": "code",
   "execution_count": 9,
   "metadata": {},
   "outputs": [
    {
     "name": "stdout",
     "output_type": "stream",
     "text": [
      "Enter your Age:20\n",
      "Adult\n"
     ]
    }
   ],
   "source": [
    "Age=int(input(\"Enter your Age:\"))\n",
    "if(Age==20):\n",
    "    print(\"Adult\")"
   ]
  },
  {
   "cell_type": "code",
   "execution_count": 12,
   "metadata": {},
   "outputs": [
    {
     "name": "stdout",
     "output_type": "stream",
     "text": [
      "Enter any number: 1\n",
      "Positive number\n"
     ]
    }
   ],
   "source": [
    "num = float(input(\"Enter any number: \"))\n",
    "if num > 0:\n",
    "   print(\"Positive number\")\n",
    "elif num == 0:\n",
    "   print(\"Zero\")\n",
    "else:\n",
    "   print(\"Negative number\")"
   ]
  },
  {
   "cell_type": "code",
   "execution_count": 15,
   "metadata": {},
   "outputs": [
    {
     "name": "stdout",
     "output_type": "stream",
     "text": [
      "Enter a number to check: 22\n",
      "No is Not Divisible by 5\n"
     ]
    }
   ],
   "source": [
    "num = float(input(\"Enter a number to check: \"))\n",
    "if ((num % 5)==0):\n",
    "   print(\"No is Divisible by 5\")\n",
    "else:\n",
    "   print(\"No is Not Divisible by 5\")"
   ]
  },
  {
   "cell_type": "code",
   "execution_count": 32,
   "metadata": {},
   "outputs": [
    {
     "name": "stdout",
     "output_type": "stream",
     "text": [
      "Enter your pasword:Hope@123\n",
      "your password is correct\n"
     ]
    }
   ],
   "source": [
    "password=input(\"Enter your pasword:\")\n",
    "if password == \"Hope@123\" :\n",
    "    print(\"your password is correct\")\n",
    "else:\n",
    "    print(\"your password is incorrect\")"
   ]
  },
  {
   "cell_type": "code",
   "execution_count": null,
   "metadata": {},
   "outputs": [],
   "source": []
  }
 ],
 "metadata": {
  "kernelspec": {
   "display_name": "Python 3",
   "language": "python",
   "name": "python3"
  },
  "language_info": {
   "codemirror_mode": {
    "name": "ipython",
    "version": 3
   },
   "file_extension": ".py",
   "mimetype": "text/x-python",
   "name": "python",
   "nbconvert_exporter": "python",
   "pygments_lexer": "ipython3",
   "version": "3.7.4"
  }
 },
 "nbformat": 4,
 "nbformat_minor": 2
}
