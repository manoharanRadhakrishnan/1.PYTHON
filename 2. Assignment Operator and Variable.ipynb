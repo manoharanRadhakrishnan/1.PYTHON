{
 "cells": [
  {
   "cell_type": "code",
   "execution_count": 1,
   "metadata": {},
   "outputs": [
    {
     "name": "stdout",
     "output_type": "stream",
     "text": [
      "add\n",
      "40\n"
     ]
    }
   ],
   "source": [
    "num1=10\n",
    "num2=30\n",
    "add=num1+num2\n",
    "print(\"add\")\n",
    "print(add)"
   ]
  },
  {
   "cell_type": "code",
   "execution_count": 2,
   "metadata": {},
   "outputs": [
    {
     "name": "stdout",
     "output_type": "stream",
     "text": [
      "The Addition of Two Numers\n",
      "The Number1= 10\n",
      " The Number2= 20\n",
      "The Answer= 30\n"
     ]
    }
   ],
   "source": [
    "print(\"The Addition of Two Numers\")\n",
    "Num1=10\n",
    "print(\"The Number1=\", Num1)\n",
    "Num2=20\n",
    "print(\" The Number2=\",Num2)\n",
    "print(\"The Answer=\", Num1+Num2)"
   ]
  },
  {
   "cell_type": "code",
   "execution_count": 3,
   "metadata": {},
   "outputs": [
    {
     "name": "stdout",
     "output_type": "stream",
     "text": [
      "The Addition of Two Numers\n",
      "The Number1= 10\n",
      " The Number2= 20\n",
      "The Answer= 30\n"
     ]
    }
   ],
   "source": [
    "print(\"The Addition of Two Numers\")\n",
    "Num1=10\n",
    "print(\"The Number1=\", Num1)\n",
    "Num2=20\n",
    "print(\" The Number2=\",Num2)\n",
    "add=Num1+Num2\n",
    "print(\"The Answer=\",add)"
   ]
  },
  {
   "cell_type": "code",
   "execution_count": null,
   "metadata": {},
   "outputs": [],
   "source": []
  }
 ],
 "metadata": {
  "kernelspec": {
   "display_name": "Python 3",
   "language": "python",
   "name": "python3"
  },
  "language_info": {
   "codemirror_mode": {
    "name": "ipython",
    "version": 3
   },
   "file_extension": ".py",
   "mimetype": "text/x-python",
   "name": "python",
   "nbconvert_exporter": "python",
   "pygments_lexer": "ipython3",
   "version": "3.7.4"
  }
 },
 "nbformat": 4,
 "nbformat_minor": 2
}
